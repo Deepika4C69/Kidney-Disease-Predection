{
  "nbformat": 4,
  "nbformat_minor": 0,
  "metadata": {
    "colab": {
      "provenance": [],
      "authorship_tag": "ABX9TyMYPxRREq5muwaDjyZUnfOJ",
      "include_colab_link": true
    },
    "kernelspec": {
      "name": "python3",
      "display_name": "Python 3"
    },
    "language_info": {
      "name": "python"
    }
  },
  "cells": [
    {
      "cell_type": "markdown",
      "metadata": {
        "id": "view-in-github",
        "colab_type": "text"
      },
      "source": [
        "<a href=\"https://colab.research.google.com/github/Deepika4C69/Kidney-Disease-Predection/blob/main/Kidney_Disease_Testing.ipynb\" target=\"_parent\"><img src=\"https://colab.research.google.com/assets/colab-badge.svg\" alt=\"Open In Colab\"/></a>"
      ]
    },
    {
      "cell_type": "code",
      "execution_count": 1,
      "metadata": {
        "id": "0UVTGlD8ms_K"
      },
      "outputs": [],
      "source": [
        "labels=[]"
      ]
    },
    {
      "cell_type": "code",
      "source": [
        "labels = ['id',\t'age',\t'bp',\t'sg',\t'al',\t'su',\t'bgr',\t'bu',\t'sc',\t'sod','dm_yes',\t'cad_no',\t'cad_yes',\t'appet_good',\t'appet_poor',\t'pe_no',\t'pe_yes',\t'ane_no',\t'ane_yes',\t'classification_ckd']\n",
        "inputs = []\n",
        "for lable in labels:\n",
        "  inputs.append(int(input('enter '+ lable + ':')))\n",
        "inputs"
      ],
      "metadata": {
        "colab": {
          "base_uri": "https://localhost:8080/"
        },
        "id": "W3v9E7LEm6-4",
        "outputId": "7a1d9842-37a4-4d76-ed77-6ffacc59e433"
      },
      "execution_count": 2,
      "outputs": [
        {
          "name": "stdout",
          "output_type": "stream",
          "text": [
            "enter id:101\n",
            "enter age:20\n",
            "enter bp:120\n",
            "enter sg:190\n",
            "enter al:12\n",
            "enter su:60\n",
            "enter bgr:55\n",
            "enter bu:7\n",
            "enter sc:3\n",
            "enter sod:2\n",
            "enter dm_yes:8\n",
            "enter cad_no:4\n",
            "enter cad_yes:3\n",
            "enter appet_good:8\n",
            "enter appet_poor:9\n",
            "enter pe_no:90\n",
            "enter pe_yes:44\n",
            "enter ane_no:40\n",
            "enter ane_yes:59\n",
            "enter classification_ckd:44\n"
          ]
        },
        {
          "output_type": "execute_result",
          "data": {
            "text/plain": [
              "[101, 20, 120, 190, 12, 60, 55, 7, 3, 2, 8, 4, 3, 8, 9, 90, 44, 40, 59, 44]"
            ]
          },
          "metadata": {},
          "execution_count": 2
        }
      ]
    },
    {
      "cell_type": "code",
      "source": [
        "from keras.models import load_model\n",
        "import numpy as np\n",
        "obj = load_model('/content/kidney.h5')\n",
        "in_array = np.array([inputs[:11]])\n",
        "result = obj.predict(in_array)\n",
        "if result > 0.5:\n",
        "  print(\"kidney Disease\")\n",
        "else:\n",
        "  print(\"No Disease\")"
      ],
      "metadata": {
        "colab": {
          "base_uri": "https://localhost:8080/"
        },
        "id": "0q3DHybqnRDt",
        "outputId": "48c18626-f039-4582-9a77-0bcceb644085"
      },
      "execution_count": 5,
      "outputs": [
        {
          "output_type": "stream",
          "name": "stderr",
          "text": [
            "WARNING:absl:Compiled the loaded model, but the compiled metrics have yet to be built. `model.compile_metrics` will be empty until you train or evaluate the model.\n"
          ]
        },
        {
          "output_type": "stream",
          "name": "stdout",
          "text": [
            "\u001b[1m1/1\u001b[0m \u001b[32m━━━━━━━━━━━━━━━━━━━━\u001b[0m\u001b[37m\u001b[0m \u001b[1m0s\u001b[0m 86ms/step\n",
            "kidney Disease\n"
          ]
        }
      ]
    },
    {
      "cell_type": "code",
      "source": [],
      "metadata": {
        "id": "IqyGtS0anpMt"
      },
      "execution_count": null,
      "outputs": []
    }
  ]
}